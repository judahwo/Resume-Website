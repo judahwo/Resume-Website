{
 "cells": [
  {
   "cell_type": "code",
   "execution_count": null,
   "metadata": {
    "vscode": {
     "languageId": "html"
    }
   },
   "outputs": [],
   "source": [
    "<!DOCTYPE html>\n",
    "<html lang=\"en\">\n",
    "<head>\n",
    "  <meta charset=\"UTF-8\">\n",
    "  <meta name=\"viewport\" content=\"width=device-width, initial-scale=1.0\">\n",
    "  <title>Professional Summary</title>\n",
    "</head>\n",
    "<body>\n",
    "  \n",
    "</body>\n",
    "</html>"
   ]
  },
  {
   "cell_type": "markdown",
   "metadata": {},
   "source": [
    "| Code Example | Explanation |\n",
    "| ------------ | ----------- |\n",
    "| `<!DOCTYPE html>` | Document type declaration. Specifies that this document is HTML5. |\n",
    "| `<html lang=\"en\">` | Root element of an HTML document. `lang=\"en\"` denotes that the content is in English. |\n",
    "| `<head>` | Contains meta-information about the document, not displayed on the page. |\n",
    "| `<meta charset=\"UTF-8\">` | Specifies the character encoding for the HTML document (UTF-8). |\n",
    "| `<meta name=\"viewport\" content=\"width=device-width, initial-scale=1.0\">` | Viewport meta tag for responsive design, ensuring the page renders well on all devices. |\n",
    "| `<title>Document</title>` | The title of the web page, shown in the browser's title bar or tab. |\n",
    "| `</head>` | Marks the end of the head section. |\n",
    "| `<body>` | Surrounds the visible page content, such as text, images, and links. |\n",
    "| `</body>` | Marks the end of the body section. |\n",
    "| `</html>` | Marks the end of the HTML document. |\n"
   ]
  },
  {
   "cell_type": "code",
   "execution_count": null,
   "metadata": {
    "vscode": {
     "languageId": "html"
    }
   },
   "outputs": [],
   "source": [
    "<div class=\"container\">\n",
    "  <div class=\"left_Side\"></div>\n",
    "  <div class=\"right_Side\"></div>\n",
    "</div>"
   ]
  },
  {
   "cell_type": "markdown",
   "metadata": {},
   "source": [
    "| Code Example | Explanation |\n",
    "| ------------ | ----------- |\n",
    "| `<div class=\"container\">` | This is a `div` element with a class named \"container\". It likely serves as a wrapper or parent for the content inside it. |\n",
    "| `<div class=\"left_Side\"></div>` | This is a `div` element with a class named \"left_Side\". This class name suggests it's meant for styling the left portion of content inside the container. |\n",
    "| `<div class=\"right_Side\"></div>` | This is a `div` element with a class named \"right_Side\". Similar to \"left_Side\", this class is likely used for styling the right portion of content inside the container. |\n",
    "| `</div>` | This closes the `div` tag for the \"container\" class. It signifies the end of the container element. |\n"
   ]
  }
 ],
 "metadata": {
  "language_info": {
   "name": "python"
  }
 },
 "nbformat": 4,
 "nbformat_minor": 2
}
